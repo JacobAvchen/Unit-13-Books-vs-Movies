{
 "cells": [
  {
   "cell_type": "code",
   "execution_count": 14,
   "metadata": {},
   "outputs": [],
   "source": [
    "from bs4 import BeautifulSoup\n",
    "import requests\n",
    "import pandas as pd"
   ]
  },
  {
   "cell_type": "code",
   "execution_count": 15,
   "metadata": {},
   "outputs": [],
   "source": [
    "base_url = 'https://www.en.wikipedia.org'\n",
    "\n",
    "url = 'https://en.wikipedia.org/wiki/List_of_fiction_works_made_into_feature_films_(K%E2%80%93R)'\n",
    "page = requests.get(url)\n",
    "soup = BeautifulSoup(page.text, \"lxml\")"
   ]
  },
  {
   "cell_type": "code",
   "execution_count": 16,
   "metadata": {},
   "outputs": [],
   "source": [
    "my_tables = soup.find_all('table',{'class':'wikitable'})"
   ]
  },
  {
   "cell_type": "code",
   "execution_count": 17,
   "metadata": {},
   "outputs": [],
   "source": [
    "book_titles = []\n",
    "movie_titles = []\n",
    "\n",
    "for table in my_tables:\n",
    "    rows = table.find_all('tr')\n",
    "    \n",
    "    for row in rows:\n",
    "        cells = row.find_all('td')\n",
    "        \n",
    "        \n",
    "        if len(cells) > 1:\n",
    "            book_title = cells[0]\n",
    "            book_titles.append(book_title.text.strip())\n",
    "            \n",
    "            movie_title = cells[1]\n",
    "            movie_titles.append(movie_title.text.strip())"
   ]
  },
  {
   "cell_type": "code",
   "execution_count": 20,
   "metadata": {},
   "outputs": [
    {
     "data": {
      "text/html": [
       "<div>\n",
       "<style scoped>\n",
       "    .dataframe tbody tr th:only-of-type {\n",
       "        vertical-align: middle;\n",
       "    }\n",
       "\n",
       "    .dataframe tbody tr th {\n",
       "        vertical-align: top;\n",
       "    }\n",
       "\n",
       "    .dataframe thead th {\n",
       "        text-align: right;\n",
       "    }\n",
       "</style>\n",
       "<table border=\"1\" class=\"dataframe\">\n",
       "  <thead>\n",
       "    <tr style=\"text-align: right;\">\n",
       "      <th></th>\n",
       "      <th>Book Titles</th>\n",
       "      <th>Movie Titles</th>\n",
       "    </tr>\n",
       "  </thead>\n",
       "  <tbody>\n",
       "    <tr>\n",
       "      <th>0</th>\n",
       "      <td>Kaitei Gunkan (1902–1907), Shunro OshikawaKait...</td>\n",
       "      <td>Atragon (1963)Super Atragon (1995)</td>\n",
       "    </tr>\n",
       "    <tr>\n",
       "      <th>1</th>\n",
       "      <td>Kami no Tsuki (2012), Mitsuyo Kakuta</td>\n",
       "      <td>Pale Moon (2014)</td>\n",
       "    </tr>\n",
       "    <tr>\n",
       "      <th>2</th>\n",
       "      <td>Kenka erejii (1963), Takashi Suzuki</td>\n",
       "      <td>Fighting Elegy (1966)</td>\n",
       "    </tr>\n",
       "    <tr>\n",
       "      <th>3</th>\n",
       "      <td>The Keys of the Kingdom (1941), A. J. Cronin</td>\n",
       "      <td>The Keys of the Kingdom (1944)</td>\n",
       "    </tr>\n",
       "    <tr>\n",
       "      <th>4</th>\n",
       "      <td>Khamphiphaksa (The Judgment) (1981), Chart Kor...</td>\n",
       "      <td>Ai-Fak (2004)</td>\n",
       "    </tr>\n",
       "  </tbody>\n",
       "</table>\n",
       "</div>"
      ],
      "text/plain": [
       "                                         Book Titles  \\\n",
       "0  Kaitei Gunkan (1902–1907), Shunro OshikawaKait...   \n",
       "1               Kami no Tsuki (2012), Mitsuyo Kakuta   \n",
       "2                Kenka erejii (1963), Takashi Suzuki   \n",
       "3       The Keys of the Kingdom (1941), A. J. Cronin   \n",
       "4  Khamphiphaksa (The Judgment) (1981), Chart Kor...   \n",
       "\n",
       "                         Movie Titles  \n",
       "0  Atragon (1963)Super Atragon (1995)  \n",
       "1                    Pale Moon (2014)  \n",
       "2               Fighting Elegy (1966)  \n",
       "3      The Keys of the Kingdom (1944)  \n",
       "4                       Ai-Fak (2004)  "
      ]
     },
     "execution_count": 20,
     "metadata": {},
     "output_type": "execute_result"
    }
   ],
   "source": [
    "df1 = pd.DataFrame({'Book Titles': book_titles,\n",
    "                    'Movie Titles': movie_titles})\n",
    "df1.head()"
   ]
  },
  {
   "cell_type": "code",
   "execution_count": 19,
   "metadata": {},
   "outputs": [],
   "source": [
    "df1.to_csv('titles_k_r', sep=',', encoding='utf-8', index=False)"
   ]
  },
  {
   "cell_type": "code",
   "execution_count": null,
   "metadata": {},
   "outputs": [],
   "source": []
  }
 ],
 "metadata": {
  "kernelspec": {
   "display_name": "Python 3",
   "language": "python",
   "name": "python3"
  },
  "language_info": {
   "codemirror_mode": {
    "name": "ipython",
    "version": 3
   },
   "file_extension": ".py",
   "mimetype": "text/x-python",
   "name": "python",
   "nbconvert_exporter": "python",
   "pygments_lexer": "ipython3",
   "version": "3.6.8"
  }
 },
 "nbformat": 4,
 "nbformat_minor": 2
}
