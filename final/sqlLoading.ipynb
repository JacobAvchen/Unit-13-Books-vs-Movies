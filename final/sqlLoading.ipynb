{
 "cells": [
  {
   "cell_type": "code",
   "execution_count": 1,
   "metadata": {},
   "outputs": [],
   "source": [
    "import pandas as pd\n",
    "from sqlalchemy import create_engine"
   ]
  },
  {
   "cell_type": "code",
   "execution_count": 2,
   "metadata": {},
   "outputs": [],
   "source": [
    "#Load in cleaned data from csvs\n",
    "movie_df = pd.read_csv(\"Resources/movies.csv\")\n",
    "ratings_df = pd.read_csv(\"Resources/ratings.csv\")\n",
    "wiki_df = pd.read_csv(\"Resources/Full_A_Z.csv\")\n",
    "books_df = pd.read_csv(\"Resources/cleanBooks.csv\")"
   ]
  },
  {
   "cell_type": "code",
   "execution_count": 3,
   "metadata": {},
   "outputs": [],
   "source": [
    "#Establish connection with pgAdmin\n",
    "rds_connection_string = \"postgres:postgres@localhost:5432/books_movies_db\"\n",
    "engine = create_engine(f'postgresql://{rds_connection_string}')"
   ]
  },
  {
   "cell_type": "code",
   "execution_count": null,
   "metadata": {},
   "outputs": [],
   "source": [
    "#Load in data from pandas to pgAdmin, replace if necessary\n",
    "if_exists_param = 'replace'\n",
    "movie_df.to_sql(name='movies', con=engine, if_exists=if_exists_param, index=False)\n",
    "ratings_df.to_sql(name='ratings', con=engine, if_exists=if_exists_param, index=False)\n",
    "wiki_df.to_sql(name='wiki', con=engine, if_exists=if_exists_param, index=False)\n",
    "books_df.to_sql(name='books', con=engine, if_exists=if_exists_param, index=False)"
   ]
  },
  {
   "cell_type": "code",
   "execution_count": null,
   "metadata": {},
   "outputs": [],
   "source": [
    "books_df.head(2)"
   ]
  },
  {
   "cell_type": "code",
   "execution_count": null,
   "metadata": {},
   "outputs": [],
   "source": [
    "movie_df.head(2)"
   ]
  },
  {
   "cell_type": "code",
   "execution_count": null,
   "metadata": {},
   "outputs": [],
   "source": [
    "ratings_df.head(2)"
   ]
  },
  {
   "cell_type": "code",
   "execution_count": null,
   "metadata": {},
   "outputs": [],
   "source": [
    "wiki_df.head(2)"
   ]
  },
  {
   "cell_type": "code",
   "execution_count": null,
   "metadata": {},
   "outputs": [],
   "source": []
  }
 ],
 "metadata": {
  "kernelspec": {
   "display_name": "Python 3",
   "language": "python",
   "name": "python3"
  },
  "language_info": {
   "codemirror_mode": {
    "name": "ipython",
    "version": 3
   },
   "file_extension": ".py",
   "mimetype": "text/x-python",
   "name": "python",
   "nbconvert_exporter": "python",
   "pygments_lexer": "ipython3",
   "version": "3.7.4"
  }
 },
 "nbformat": 4,
 "nbformat_minor": 2
}
