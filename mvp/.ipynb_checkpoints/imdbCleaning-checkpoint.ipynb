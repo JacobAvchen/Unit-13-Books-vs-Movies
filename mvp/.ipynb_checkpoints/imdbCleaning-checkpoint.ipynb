{
 "cells": [
  {
   "cell_type": "code",
   "execution_count": 1,
   "metadata": {},
   "outputs": [],
   "source": [
    "import pandas as pd"
   ]
  },
  {
   "cell_type": "code",
   "execution_count": 2,
   "metadata": {},
   "outputs": [
    {
     "name": "stderr",
     "output_type": "stream",
     "text": [
      "C:\\Users\\nitec\\Anaconda3\\lib\\site-packages\\IPython\\core\\interactiveshell.py:3058: DtypeWarning: Columns (5) have mixed types. Specify dtype option on import or set low_memory=False.\n",
      "  interactivity=interactivity, compiler=compiler, result=result)\n"
     ]
    }
   ],
   "source": [
    "#Load in tsv files to pandas\n",
    "basics_df = pd.read_csv('title.basics.tsv.gz', compression='gzip',  sep='\\t' , quotechar='\"')\n",
    "ratings_df = pd.read_csv('Resources/title.ratings.tsv.gz', compression='gzip',  sep='\\t' , quotechar='\"')"
   ]
  },
  {
   "cell_type": "code",
   "execution_count": 3,
   "metadata": {},
   "outputs": [],
   "source": [
    "#Remove unnecessary endYear column\n",
    "basics_df = basics_df.drop('endYear', axis=1)"
   ]
  },
  {
   "cell_type": "code",
   "execution_count": 4,
   "metadata": {},
   "outputs": [],
   "source": [
    "#Remove rows in moviedf that aren't movies\n",
    "movie_df = basics_df.loc[basics_df['titleType'] == 'movie']"
   ]
  },
  {
   "cell_type": "code",
   "execution_count": 5,
   "metadata": {},
   "outputs": [
    {
     "name": "stderr",
     "output_type": "stream",
     "text": [
      "C:\\Users\\nitec\\Anaconda3\\lib\\site-packages\\ipykernel_launcher.py:4: SettingWithCopyWarning: \n",
      "A value is trying to be set on a copy of a slice from a DataFrame.\n",
      "Try using .loc[row_indexer,col_indexer] = value instead\n",
      "\n",
      "See the caveats in the documentation: http://pandas.pydata.org/pandas-docs/stable/user_guide/indexing.html#returning-a-view-versus-a-copy\n",
      "  after removing the cwd from sys.path.\n"
     ]
    }
   ],
   "source": [
    "#Remove rows with no year \n",
    "cleanYear_df = movie_df[movie_df.startYear != '\\\\N']\n",
    "#Recast startYear column as integers for sorting purposes\n",
    "cleanYear_df['startYear'] = cleanYear_df['startYear'].astype(int)\n",
    "#Remove entries for future movies\n",
    "cleanYear_df = cleanYear_df.loc[cleanYear_df['startYear'] < 2020]"
   ]
  },
  {
   "cell_type": "code",
   "execution_count": 6,
   "metadata": {},
   "outputs": [],
   "source": [
    "#Sort sortYear_df by year released\n",
    "sortYear_df = cleanYear_df.sort_values(by='startYear', ascending=False)"
   ]
  },
  {
   "cell_type": "code",
   "execution_count": 7,
   "metadata": {},
   "outputs": [],
   "source": [
    "#Merge the ratings and movie dfs so we only have movies that are rated on imdb\n",
    "merged_df = pd.merge(ratings_df, sortYear_df)"
   ]
  },
  {
   "cell_type": "code",
   "execution_count": 8,
   "metadata": {},
   "outputs": [],
   "source": [
    "#Seperate the dfs into movie and rating dfs\n",
    "finalRating_df = merged_df[['tconst','averageRating','numVotes']]\n",
    "finalMovie_df = merged_df[['tconst', 'titleType', 'primaryTitle', 'originalTitle', 'startYear', 'genres', 'runtimeMinutes']]"
   ]
  },
  {
   "cell_type": "code",
   "execution_count": 9,
   "metadata": {},
   "outputs": [],
   "source": [
    "#Rename columns to underscore notation instead of camelcasing \n",
    "finalRating_df = finalRating_df.rename(columns={'averageRating': 'average_rating', 'numVotes': 'num_votes'})\n",
    "finalMovie_df = finalMovie_df.rename(columns={'titleType': 'title_type', 'primaryTitle': 'primary_title', 'originalTitle': 'original_title',\\\n",
    "                                              'startYear': 'start_year', 'runtimeMinutes': 'runtime_minutes'})"
   ]
  },
  {
   "cell_type": "code",
   "execution_count": 11,
   "metadata": {},
   "outputs": [
    {
     "data": {
      "text/html": [
       "<div>\n",
       "<style scoped>\n",
       "    .dataframe tbody tr th:only-of-type {\n",
       "        vertical-align: middle;\n",
       "    }\n",
       "\n",
       "    .dataframe tbody tr th {\n",
       "        vertical-align: top;\n",
       "    }\n",
       "\n",
       "    .dataframe thead th {\n",
       "        text-align: right;\n",
       "    }\n",
       "</style>\n",
       "<table border=\"1\" class=\"dataframe\">\n",
       "  <thead>\n",
       "    <tr style=\"text-align: right;\">\n",
       "      <th></th>\n",
       "      <th>tconst</th>\n",
       "      <th>title_type</th>\n",
       "      <th>primary_title</th>\n",
       "      <th>original_title</th>\n",
       "      <th>start_year</th>\n",
       "      <th>genres</th>\n",
       "      <th>runtime_minutes</th>\n",
       "    </tr>\n",
       "  </thead>\n",
       "  <tbody>\n",
       "    <tr>\n",
       "      <td>0</td>\n",
       "      <td>tt0000009</td>\n",
       "      <td>movie</td>\n",
       "      <td>Miss Jerry</td>\n",
       "      <td>Miss Jerry</td>\n",
       "      <td>1894</td>\n",
       "      <td>Romance</td>\n",
       "      <td>45</td>\n",
       "    </tr>\n",
       "    <tr>\n",
       "      <td>1</td>\n",
       "      <td>tt0000147</td>\n",
       "      <td>movie</td>\n",
       "      <td>The Corbett-Fitzsimmons Fight</td>\n",
       "      <td>The Corbett-Fitzsimmons Fight</td>\n",
       "      <td>1897</td>\n",
       "      <td>Documentary,News,Sport</td>\n",
       "      <td>20</td>\n",
       "    </tr>\n",
       "    <tr>\n",
       "      <td>2</td>\n",
       "      <td>tt0000335</td>\n",
       "      <td>movie</td>\n",
       "      <td>Soldiers of the Cross</td>\n",
       "      <td>Soldiers of the Cross</td>\n",
       "      <td>1900</td>\n",
       "      <td>Biography,Drama</td>\n",
       "      <td>\\N</td>\n",
       "    </tr>\n",
       "    <tr>\n",
       "      <td>3</td>\n",
       "      <td>tt0000502</td>\n",
       "      <td>movie</td>\n",
       "      <td>Bohemios</td>\n",
       "      <td>Bohemios</td>\n",
       "      <td>1905</td>\n",
       "      <td>\\N</td>\n",
       "      <td>100</td>\n",
       "    </tr>\n",
       "    <tr>\n",
       "      <td>4</td>\n",
       "      <td>tt0000574</td>\n",
       "      <td>movie</td>\n",
       "      <td>The Story of the Kelly Gang</td>\n",
       "      <td>The Story of the Kelly Gang</td>\n",
       "      <td>1906</td>\n",
       "      <td>Biography,Crime,Drama</td>\n",
       "      <td>70</td>\n",
       "    </tr>\n",
       "    <tr>\n",
       "      <td>...</td>\n",
       "      <td>...</td>\n",
       "      <td>...</td>\n",
       "      <td>...</td>\n",
       "      <td>...</td>\n",
       "      <td>...</td>\n",
       "      <td>...</td>\n",
       "      <td>...</td>\n",
       "    </tr>\n",
       "    <tr>\n",
       "      <td>246361</td>\n",
       "      <td>tt9914942</td>\n",
       "      <td>movie</td>\n",
       "      <td>La vida sense la Sara Amat</td>\n",
       "      <td>La vida sense la Sara Amat</td>\n",
       "      <td>2019</td>\n",
       "      <td>Drama</td>\n",
       "      <td>74</td>\n",
       "    </tr>\n",
       "    <tr>\n",
       "      <td>246362</td>\n",
       "      <td>tt9915790</td>\n",
       "      <td>movie</td>\n",
       "      <td>Bobbyr Bondhura</td>\n",
       "      <td>Bobbyr Bondhura</td>\n",
       "      <td>2019</td>\n",
       "      <td>Family</td>\n",
       "      <td>\\N</td>\n",
       "    </tr>\n",
       "    <tr>\n",
       "      <td>246363</td>\n",
       "      <td>tt9916160</td>\n",
       "      <td>movie</td>\n",
       "      <td>Drømmeland</td>\n",
       "      <td>Drømmeland</td>\n",
       "      <td>2019</td>\n",
       "      <td>Documentary</td>\n",
       "      <td>72</td>\n",
       "    </tr>\n",
       "    <tr>\n",
       "      <td>246364</td>\n",
       "      <td>tt9916428</td>\n",
       "      <td>movie</td>\n",
       "      <td>The Secret of China</td>\n",
       "      <td>The Secret of China</td>\n",
       "      <td>2019</td>\n",
       "      <td>Adventure,History,War</td>\n",
       "      <td>\\N</td>\n",
       "    </tr>\n",
       "    <tr>\n",
       "      <td>246365</td>\n",
       "      <td>tt9916538</td>\n",
       "      <td>movie</td>\n",
       "      <td>Kuambil Lagi Hatiku</td>\n",
       "      <td>Kuambil Lagi Hatiku</td>\n",
       "      <td>2019</td>\n",
       "      <td>Drama</td>\n",
       "      <td>123</td>\n",
       "    </tr>\n",
       "  </tbody>\n",
       "</table>\n",
       "<p>246366 rows × 7 columns</p>\n",
       "</div>"
      ],
      "text/plain": [
       "           tconst title_type                  primary_title  \\\n",
       "0       tt0000009      movie                     Miss Jerry   \n",
       "1       tt0000147      movie  The Corbett-Fitzsimmons Fight   \n",
       "2       tt0000335      movie          Soldiers of the Cross   \n",
       "3       tt0000502      movie                       Bohemios   \n",
       "4       tt0000574      movie    The Story of the Kelly Gang   \n",
       "...           ...        ...                            ...   \n",
       "246361  tt9914942      movie     La vida sense la Sara Amat   \n",
       "246362  tt9915790      movie                Bobbyr Bondhura   \n",
       "246363  tt9916160      movie                     Drømmeland   \n",
       "246364  tt9916428      movie            The Secret of China   \n",
       "246365  tt9916538      movie            Kuambil Lagi Hatiku   \n",
       "\n",
       "                       original_title  start_year                  genres  \\\n",
       "0                          Miss Jerry        1894                 Romance   \n",
       "1       The Corbett-Fitzsimmons Fight        1897  Documentary,News,Sport   \n",
       "2               Soldiers of the Cross        1900         Biography,Drama   \n",
       "3                            Bohemios        1905                      \\N   \n",
       "4         The Story of the Kelly Gang        1906   Biography,Crime,Drama   \n",
       "...                               ...         ...                     ...   \n",
       "246361     La vida sense la Sara Amat        2019                   Drama   \n",
       "246362                Bobbyr Bondhura        2019                  Family   \n",
       "246363                     Drømmeland        2019             Documentary   \n",
       "246364            The Secret of China        2019   Adventure,History,War   \n",
       "246365            Kuambil Lagi Hatiku        2019                   Drama   \n",
       "\n",
       "       runtime_minutes  \n",
       "0                   45  \n",
       "1                   20  \n",
       "2                   \\N  \n",
       "3                  100  \n",
       "4                   70  \n",
       "...                ...  \n",
       "246361              74  \n",
       "246362              \\N  \n",
       "246363              72  \n",
       "246364              \\N  \n",
       "246365             123  \n",
       "\n",
       "[246366 rows x 7 columns]"
      ]
     },
     "execution_count": 11,
     "metadata": {},
     "output_type": "execute_result"
    }
   ],
   "source": [
    "finalMovie_df"
   ]
  },
  {
   "cell_type": "code",
   "execution_count": 10,
   "metadata": {},
   "outputs": [],
   "source": [
    "finalRating_df.to_csv('ratings.csv', sep=',', encoding='utf-8', index=False)\n",
    "finalMovie_df.to_csv('movies.csv', sep=',', encoding='utf-8', index=False)"
   ]
  }
 ],
 "metadata": {
  "kernelspec": {
   "display_name": "Python 3",
   "language": "python",
   "name": "python3"
  },
  "language_info": {
   "codemirror_mode": {
    "name": "ipython",
    "version": 3
   },
   "file_extension": ".py",
   "mimetype": "text/x-python",
   "name": "python",
   "nbconvert_exporter": "python",
   "pygments_lexer": "ipython3",
   "version": "3.7.4"
  }
 },
 "nbformat": 4,
 "nbformat_minor": 2
}
