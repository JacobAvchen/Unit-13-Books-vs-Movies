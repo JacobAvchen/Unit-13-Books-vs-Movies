{
 "cells": [
  {
   "cell_type": "code",
   "execution_count": 1,
   "metadata": {},
   "outputs": [],
   "source": [
    "import pandas as pd\n",
    "import glob"
   ]
  },
  {
   "cell_type": "code",
   "execution_count": 2,
   "metadata": {},
   "outputs": [],
   "source": [
    "path = r'C:\\Users\\nitec\\Desktop\\Data_Science_Bootcamp\\Project2_Books_vs_Movies\\Unit-13-Books-vs-Movies\\mvp\\data'\n",
    "all_files = glob.glob(path + \"/*.csv\")\n",
    "\n",
    "li = []\n",
    "\n",
    "for filename in all_files:\n",
    "    df = pd.read_csv(filename, index_col=None, header=0)\n",
    "    li.append(df)\n",
    "\n",
    "frame = pd.concat(li, axis=0, ignore_index=True)"
   ]
  },
  {
   "cell_type": "code",
   "execution_count": 3,
   "metadata": {},
   "outputs": [
    {
     "data": {
      "text/html": [
       "<div>\n",
       "<style scoped>\n",
       "    .dataframe tbody tr th:only-of-type {\n",
       "        vertical-align: middle;\n",
       "    }\n",
       "\n",
       "    .dataframe tbody tr th {\n",
       "        vertical-align: top;\n",
       "    }\n",
       "\n",
       "    .dataframe thead th {\n",
       "        text-align: right;\n",
       "    }\n",
       "</style>\n",
       "<table border=\"1\" class=\"dataframe\">\n",
       "  <thead>\n",
       "    <tr style=\"text-align: right;\">\n",
       "      <th></th>\n",
       "      <th>Book Titles</th>\n",
       "      <th>Movie Titles</th>\n",
       "    </tr>\n",
       "  </thead>\n",
       "  <tbody>\n",
       "    <tr>\n",
       "      <td>0</td>\n",
       "      <td>\"The Biscuit Eater\" (1939), James H. Street</td>\n",
       "      <td>The Biscuit Eater (1940)  The Biscuit Eater (1...</td>\n",
       "    </tr>\n",
       "    <tr>\n",
       "      <td>1</td>\n",
       "      <td>'Salem's Lot (1975), Stephen King</td>\n",
       "      <td>Salem's Lot (1979) (TV)* A Return to Salem's L...</td>\n",
       "    </tr>\n",
       "    <tr>\n",
       "      <td>2</td>\n",
       "      <td>A Captive in the Land (1962), James Aldridge</td>\n",
       "      <td>A Captive in the Land (1990)</td>\n",
       "    </tr>\n",
       "    <tr>\n",
       "      <td>3</td>\n",
       "      <td>A Case of Need (1968), Michael Crichton (as Je...</td>\n",
       "      <td>The Carey Treatment (1972)</td>\n",
       "    </tr>\n",
       "    <tr>\n",
       "      <td>4</td>\n",
       "      <td>A Certain Mr. Takahashi (1985), Ann Ireland</td>\n",
       "      <td>The Pianist (1991)</td>\n",
       "    </tr>\n",
       "  </tbody>\n",
       "</table>\n",
       "</div>"
      ],
      "text/plain": [
       "                                         Book Titles  \\\n",
       "0        \"The Biscuit Eater\" (1939), James H. Street   \n",
       "1                  'Salem's Lot (1975), Stephen King   \n",
       "2       A Captive in the Land (1962), James Aldridge   \n",
       "3  A Case of Need (1968), Michael Crichton (as Je...   \n",
       "4        A Certain Mr. Takahashi (1985), Ann Ireland   \n",
       "\n",
       "                                        Movie Titles  \n",
       "0  The Biscuit Eater (1940)  The Biscuit Eater (1...  \n",
       "1  Salem's Lot (1979) (TV)* A Return to Salem's L...  \n",
       "2                       A Captive in the Land (1990)  \n",
       "3                         The Carey Treatment (1972)  \n",
       "4                                 The Pianist (1991)  "
      ]
     },
     "execution_count": 3,
     "metadata": {},
     "output_type": "execute_result"
    }
   ],
   "source": [
    "full_df = frame.sort_values('Book Titles', ascending=True).reset_index()\n",
    "full_df = full_df.drop('index', axis=1)\n",
    "full_df.head()"
   ]
  },
  {
   "cell_type": "code",
   "execution_count": 4,
   "metadata": {},
   "outputs": [
    {
     "data": {
      "text/plain": [
       "(1637, 2)"
      ]
     },
     "execution_count": 4,
     "metadata": {},
     "output_type": "execute_result"
    }
   ],
   "source": [
    "full_df.shape"
   ]
  },
  {
   "cell_type": "code",
   "execution_count": 5,
   "metadata": {},
   "outputs": [],
   "source": [
    "new = full_df['Book Titles'].str.split(\"(\", n = 1, expand = True)\n",
    "full_df['Book Title']= new[0]\n",
    "full_df = full_df.rename(columns={'Movie Titles': 'movie_title', 'Book Title': 'book_title'})\n",
    "\n",
    "full_df = full_df.drop('Book Titles', axis=1)"
   ]
  },
  {
   "cell_type": "code",
   "execution_count": 7,
   "metadata": {},
   "outputs": [],
   "source": [
    "full_df['book_title'] = full_df['book_title'].str.rstrip()"
   ]
  },
  {
   "cell_type": "code",
   "execution_count": 9,
   "metadata": {},
   "outputs": [
    {
     "data": {
      "text/plain": [
       "'A Captive in the Land'"
      ]
     },
     "execution_count": 9,
     "metadata": {},
     "output_type": "execute_result"
    }
   ],
   "source": [
    "full_df['book_title'][2]"
   ]
  },
  {
   "cell_type": "code",
   "execution_count": 10,
   "metadata": {},
   "outputs": [],
   "source": [
    "full_df.to_csv('Full_A_Z.csv', sep=',', encoding='utf-8', index=False)"
   ]
  },
  {
   "cell_type": "code",
   "execution_count": null,
   "metadata": {},
   "outputs": [],
   "source": []
  }
 ],
 "metadata": {
  "kernelspec": {
   "display_name": "Python 3",
   "language": "python",
   "name": "python3"
  },
  "language_info": {
   "codemirror_mode": {
    "name": "ipython",
    "version": 3
   },
   "file_extension": ".py",
   "mimetype": "text/x-python",
   "name": "python",
   "nbconvert_exporter": "python",
   "pygments_lexer": "ipython3",
   "version": "3.7.4"
  }
 },
 "nbformat": 4,
 "nbformat_minor": 2
}
