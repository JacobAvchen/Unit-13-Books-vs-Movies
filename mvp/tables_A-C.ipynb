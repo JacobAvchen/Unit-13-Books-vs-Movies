{
 "cells": [
  {
   "cell_type": "code",
   "execution_count": 37,
   "metadata": {},
   "outputs": [],
   "source": [
    "from bs4 import BeautifulSoup\n",
    "import requests\n",
    "import pandas as pd"
   ]
  },
  {
   "cell_type": "code",
   "execution_count": 38,
   "metadata": {},
   "outputs": [],
   "source": [
    "base_url = 'https://www.en.wikipedia.org'\n",
    "\n",
    "url = 'https://en.wikipedia.org/wiki/List_of_fiction_works_made_into_feature_films_(0%E2%80%939,_A%E2%80%93C)'\n",
    "page = requests.get(url)\n",
    "soup = BeautifulSoup(page.text, \"lxml\")"
   ]
  },
  {
   "cell_type": "code",
   "execution_count": 39,
   "metadata": {},
   "outputs": [],
   "source": [
    "my_tables = soup.find_all('table',{'class':'wikitable'})"
   ]
  },
  {
   "cell_type": "code",
   "execution_count": 40,
   "metadata": {},
   "outputs": [],
   "source": [
    "book_titles = []\n",
    "movie_titles = []\n",
    "\n",
    "for table in my_tables:\n",
    "    rows = table.find_all('tr')\n",
    "    \n",
    "    for row in rows:\n",
    "        cells = row.find_all('td')\n",
    "        \n",
    "        \n",
    "        if len(cells) > 1:\n",
    "            book_title = cells[0]\n",
    "            book_titles.append(book_title.text.strip())\n",
    "            \n",
    "            movie_title = cells[1]\n",
    "            movie_titles.append(movie_title.text.strip())"
   ]
  },
  {
   "cell_type": "code",
   "execution_count": 48,
   "metadata": {},
   "outputs": [
    {
     "data": {
      "text/html": [
       "<div>\n",
       "<style scoped>\n",
       "    .dataframe tbody tr th:only-of-type {\n",
       "        vertical-align: middle;\n",
       "    }\n",
       "\n",
       "    .dataframe tbody tr th {\n",
       "        vertical-align: top;\n",
       "    }\n",
       "\n",
       "    .dataframe thead th {\n",
       "        text-align: right;\n",
       "    }\n",
       "</style>\n",
       "<table border=\"1\" class=\"dataframe\">\n",
       "  <thead>\n",
       "    <tr style=\"text-align: right;\">\n",
       "      <th></th>\n",
       "      <th>Book Titles</th>\n",
       "      <th>Movie Titles</th>\n",
       "    </tr>\n",
       "  </thead>\n",
       "  <tbody>\n",
       "    <tr>\n",
       "      <th>0</th>\n",
       "      <td>The A.B.C. Murders (1936), Agatha Christie</td>\n",
       "      <td>The Alphabet Murders (1966)The A.B.C. Murders ...</td>\n",
       "    </tr>\n",
       "    <tr>\n",
       "      <th>1</th>\n",
       "      <td>À ton image (1998), Louise L. Lambrichs</td>\n",
       "      <td>À ton image (2004)</td>\n",
       "    </tr>\n",
       "    <tr>\n",
       "      <th>2</th>\n",
       "      <td>De Aanslag (The Assault) (1982), Harry Mulisch</td>\n",
       "      <td>The Assault (1986)</td>\n",
       "    </tr>\n",
       "    <tr>\n",
       "      <th>3</th>\n",
       "      <td>About a Boy (1998), Nick Hornby</td>\n",
       "      <td>About a Boy (2002)</td>\n",
       "    </tr>\n",
       "    <tr>\n",
       "      <th>4</th>\n",
       "      <td>About Schmidt (1996), Louis Begley</td>\n",
       "      <td>About Schmidt (2002)</td>\n",
       "    </tr>\n",
       "  </tbody>\n",
       "</table>\n",
       "</div>"
      ],
      "text/plain": [
       "                                      Book Titles  \\\n",
       "0      The A.B.C. Murders (1936), Agatha Christie   \n",
       "1         À ton image (1998), Louise L. Lambrichs   \n",
       "2  De Aanslag (The Assault) (1982), Harry Mulisch   \n",
       "3                 About a Boy (1998), Nick Hornby   \n",
       "4              About Schmidt (1996), Louis Begley   \n",
       "\n",
       "                                        Movie Titles  \n",
       "0  The Alphabet Murders (1966)The A.B.C. Murders ...  \n",
       "1                                 À ton image (2004)  \n",
       "2                                 The Assault (1986)  \n",
       "3                                 About a Boy (2002)  \n",
       "4                               About Schmidt (2002)  "
      ]
     },
     "execution_count": 48,
     "metadata": {},
     "output_type": "execute_result"
    }
   ],
   "source": [
    "df1 = pd.DataFrame({'Book Titles': book_titles,\n",
    "                    'Movie Titles': movie_titles})\n",
    "df1.head()"
   ]
  },
  {
   "cell_type": "code",
   "execution_count": 47,
   "metadata": {},
   "outputs": [],
   "source": [
    "df1.to_csv('titles_a_c', sep=',', encoding='utf-8', index=False)"
   ]
  },
  {
   "cell_type": "code",
   "execution_count": null,
   "metadata": {},
   "outputs": [],
   "source": []
  }
 ],
 "metadata": {
  "kernelspec": {
   "display_name": "Python 3",
   "language": "python",
   "name": "python3"
  },
  "language_info": {
   "codemirror_mode": {
    "name": "ipython",
    "version": 3
   },
   "file_extension": ".py",
   "mimetype": "text/x-python",
   "name": "python",
   "nbconvert_exporter": "python",
   "pygments_lexer": "ipython3",
   "version": "3.6.8"
  }
 },
 "nbformat": 4,
 "nbformat_minor": 2
}
