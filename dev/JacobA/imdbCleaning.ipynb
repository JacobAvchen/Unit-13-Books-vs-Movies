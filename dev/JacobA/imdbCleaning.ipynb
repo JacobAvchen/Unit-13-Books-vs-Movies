{
 "cells": [
  {
   "cell_type": "code",
   "execution_count": 1,
   "metadata": {},
   "outputs": [],
   "source": [
    "import pandas as pd"
   ]
  },
  {
   "cell_type": "code",
   "execution_count": 2,
   "metadata": {},
   "outputs": [
    {
     "name": "stderr",
     "output_type": "stream",
     "text": [
      "C:\\Users\\nitec\\Anaconda3\\lib\\site-packages\\IPython\\core\\interactiveshell.py:3058: DtypeWarning: Columns (5) have mixed types. Specify dtype option on import or set low_memory=False.\n",
      "  interactivity=interactivity, compiler=compiler, result=result)\n"
     ]
    }
   ],
   "source": [
    "#Load in tsv files to pandas\n",
    "basics_df = pd.read_csv('title.basics.tsv.gz', compression='gzip',  sep='\\t' , quotechar='\"')\n",
    "ratings_df = pd.read_csv('../../Resources/title.ratings.tsv.gz', compression='gzip',  sep='\\t' , quotechar='\"')"
   ]
  },
  {
   "cell_type": "code",
   "execution_count": 3,
   "metadata": {},
   "outputs": [],
   "source": [
    "#Remove unnecessary endYear column\n",
    "basics_df = basics_df.drop('endYear', axis=1)"
   ]
  },
  {
   "cell_type": "code",
   "execution_count": 4,
   "metadata": {},
   "outputs": [],
   "source": [
    "#Remove rows in moviedf that aren't movies\n",
    "movie_df = basics_df.loc[basics_df['titleType'] == 'movie']"
   ]
  },
  {
   "cell_type": "code",
   "execution_count": 5,
   "metadata": {},
   "outputs": [
    {
     "name": "stderr",
     "output_type": "stream",
     "text": [
      "C:\\Users\\nitec\\Anaconda3\\lib\\site-packages\\ipykernel_launcher.py:4: SettingWithCopyWarning: \n",
      "A value is trying to be set on a copy of a slice from a DataFrame.\n",
      "Try using .loc[row_indexer,col_indexer] = value instead\n",
      "\n",
      "See the caveats in the documentation: http://pandas.pydata.org/pandas-docs/stable/user_guide/indexing.html#returning-a-view-versus-a-copy\n",
      "  after removing the cwd from sys.path.\n"
     ]
    }
   ],
   "source": [
    "#Remove rows with no year \n",
    "cleanYear_df = movie_df[movie_df.startYear != '\\\\N']\n",
    "#Recast startYear column as integers for sorting purposes\n",
    "cleanYear_df['startYear'] = cleanYear_df['startYear'].astype(int)\n",
    "#Remove entries for future movies\n",
    "cleanYear_df = cleanYear_df.loc[cleanYear_df['startYear'] < 2020]"
   ]
  },
  {
   "cell_type": "code",
   "execution_count": 6,
   "metadata": {},
   "outputs": [],
   "source": [
    "#Sort sortYear_df by year released\n",
    "sortYear_df = cleanYear_df.sort_values(by='startYear', ascending=False)"
   ]
  },
  {
   "cell_type": "code",
   "execution_count": 9,
   "metadata": {},
   "outputs": [],
   "source": [
    "#Merge the ratings and movie dfs so we only have movies that are rated on imdb\n",
    "merged_df = pd.merge(ratings_df, sortYear_df)"
   ]
  },
  {
   "cell_type": "code",
   "execution_count": 10,
   "metadata": {},
   "outputs": [],
   "source": [
    "#Seperate the dfs into movie and rating dfs\n",
    "finalRating_df = merged_df[['tconst','averageRating','numVotes']]\n",
    "finalMovie_df = merged_df[['tconst', 'titleType', 'primaryTitle', 'originalTitle', 'startYear', 'genres', 'runtimeMinutes']]"
   ]
  },
  {
   "cell_type": "code",
   "execution_count": 11,
   "metadata": {},
   "outputs": [
    {
     "data": {
      "text/html": [
       "<div>\n",
       "<style scoped>\n",
       "    .dataframe tbody tr th:only-of-type {\n",
       "        vertical-align: middle;\n",
       "    }\n",
       "\n",
       "    .dataframe tbody tr th {\n",
       "        vertical-align: top;\n",
       "    }\n",
       "\n",
       "    .dataframe thead th {\n",
       "        text-align: right;\n",
       "    }\n",
       "</style>\n",
       "<table border=\"1\" class=\"dataframe\">\n",
       "  <thead>\n",
       "    <tr style=\"text-align: right;\">\n",
       "      <th></th>\n",
       "      <th>tconst</th>\n",
       "      <th>averageRating</th>\n",
       "      <th>numVotes</th>\n",
       "    </tr>\n",
       "  </thead>\n",
       "  <tbody>\n",
       "    <tr>\n",
       "      <td>0</td>\n",
       "      <td>tt0000009</td>\n",
       "      <td>5.9</td>\n",
       "      <td>153</td>\n",
       "    </tr>\n",
       "    <tr>\n",
       "      <td>1</td>\n",
       "      <td>tt0000147</td>\n",
       "      <td>5.2</td>\n",
       "      <td>343</td>\n",
       "    </tr>\n",
       "    <tr>\n",
       "      <td>2</td>\n",
       "      <td>tt0000335</td>\n",
       "      <td>6.1</td>\n",
       "      <td>40</td>\n",
       "    </tr>\n",
       "    <tr>\n",
       "      <td>3</td>\n",
       "      <td>tt0000502</td>\n",
       "      <td>4.4</td>\n",
       "      <td>5</td>\n",
       "    </tr>\n",
       "    <tr>\n",
       "      <td>4</td>\n",
       "      <td>tt0000574</td>\n",
       "      <td>6.1</td>\n",
       "      <td>570</td>\n",
       "    </tr>\n",
       "    <tr>\n",
       "      <td>...</td>\n",
       "      <td>...</td>\n",
       "      <td>...</td>\n",
       "      <td>...</td>\n",
       "    </tr>\n",
       "    <tr>\n",
       "      <td>246361</td>\n",
       "      <td>tt9914942</td>\n",
       "      <td>6.8</td>\n",
       "      <td>79</td>\n",
       "    </tr>\n",
       "    <tr>\n",
       "      <td>246362</td>\n",
       "      <td>tt9915790</td>\n",
       "      <td>7.6</td>\n",
       "      <td>14</td>\n",
       "    </tr>\n",
       "    <tr>\n",
       "      <td>246363</td>\n",
       "      <td>tt9916160</td>\n",
       "      <td>6.6</td>\n",
       "      <td>36</td>\n",
       "    </tr>\n",
       "    <tr>\n",
       "      <td>246364</td>\n",
       "      <td>tt9916428</td>\n",
       "      <td>3.3</td>\n",
       "      <td>11</td>\n",
       "    </tr>\n",
       "    <tr>\n",
       "      <td>246365</td>\n",
       "      <td>tt9916538</td>\n",
       "      <td>8.4</td>\n",
       "      <td>5</td>\n",
       "    </tr>\n",
       "  </tbody>\n",
       "</table>\n",
       "<p>246366 rows × 3 columns</p>\n",
       "</div>"
      ],
      "text/plain": [
       "           tconst  averageRating  numVotes\n",
       "0       tt0000009            5.9       153\n",
       "1       tt0000147            5.2       343\n",
       "2       tt0000335            6.1        40\n",
       "3       tt0000502            4.4         5\n",
       "4       tt0000574            6.1       570\n",
       "...           ...            ...       ...\n",
       "246361  tt9914942            6.8        79\n",
       "246362  tt9915790            7.6        14\n",
       "246363  tt9916160            6.6        36\n",
       "246364  tt9916428            3.3        11\n",
       "246365  tt9916538            8.4         5\n",
       "\n",
       "[246366 rows x 3 columns]"
      ]
     },
     "execution_count": 11,
     "metadata": {},
     "output_type": "execute_result"
    }
   ],
   "source": [
    "finalRating_df"
   ]
  },
  {
   "cell_type": "code",
   "execution_count": null,
   "metadata": {},
   "outputs": [],
   "source": []
  }
 ],
 "metadata": {
  "kernelspec": {
   "display_name": "Python 3",
   "language": "python",
   "name": "python3"
  },
  "language_info": {
   "codemirror_mode": {
    "name": "ipython",
    "version": 3
   },
   "file_extension": ".py",
   "mimetype": "text/x-python",
   "name": "python",
   "nbconvert_exporter": "python",
   "pygments_lexer": "ipython3",
   "version": "3.7.4"
  }
 },
 "nbformat": 4,
 "nbformat_minor": 2
}
